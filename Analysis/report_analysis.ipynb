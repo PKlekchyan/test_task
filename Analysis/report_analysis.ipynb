{
 "cells": [
  {
   "cell_type": "code",
   "execution_count": 1,
   "id": "9c7f9cfa",
   "metadata": {},
   "outputs": [],
   "source": [
    "import pandas as pd\n",
    "import matplotlib.pyplot as plt"
   ]
  },
  {
   "cell_type": "code",
   "execution_count": 2,
   "id": "829a598e",
   "metadata": {},
   "outputs": [],
   "source": [
    "df = pd.read_csv('Тестовый отчет_доктор_док_12.01.22_08.30 - Worksheet.csv')"
   ]
  },
  {
   "cell_type": "code",
   "execution_count": 4,
   "id": "082a8dc9",
   "metadata": {
    "scrolled": false
   },
   "outputs": [
    {
     "data": {
      "text/html": [
       "<div>\n",
       "<style scoped>\n",
       "    .dataframe tbody tr th:only-of-type {\n",
       "        vertical-align: middle;\n",
       "    }\n",
       "\n",
       "    .dataframe tbody tr th {\n",
       "        vertical-align: top;\n",
       "    }\n",
       "\n",
       "    .dataframe thead th {\n",
       "        text-align: right;\n",
       "    }\n",
       "</style>\n",
       "<table border=\"1\" class=\"dataframe\">\n",
       "  <thead>\n",
       "    <tr style=\"text-align: right;\">\n",
       "      <th></th>\n",
       "      <th>Товар (офф. Наименование)</th>\n",
       "      <th>Цена</th>\n",
       "      <th>Регион</th>\n",
       "      <th>Федеральный округ</th>\n",
       "      <th>Наименование на сайте</th>\n",
       "      <th>Цена на сайте</th>\n",
       "      <th>Сайт</th>\n",
       "      <th>Дата выкачки</th>\n",
       "      <th>Время выкачки</th>\n",
       "      <th>Ссылка</th>\n",
       "    </tr>\n",
       "  </thead>\n",
       "  <tbody>\n",
       "    <tr>\n",
       "      <th>0</th>\n",
       "      <td>Жидкость для рук 80мл</td>\n",
       "      <td>NaN</td>\n",
       "      <td>Казань</td>\n",
       "      <td>Приволжский федеральный округ</td>\n",
       "      <td>ЖИДКОСТЬ ДЛЯ РУК АММИАК+ГЛИЦЕРОЛ+ЭТАНОЛ 80МЛ Р...</td>\n",
       "      <td>0,00</td>\n",
       "      <td>apteka.ru</td>\n",
       "      <td>12.01.2022</td>\n",
       "      <td>00:39</td>\n",
       "      <td>https://apteka.ru/product/zhidkost-dlya-ruk-am...</td>\n",
       "    </tr>\n",
       "    <tr>\n",
       "      <th>1</th>\n",
       "      <td>Мильгамма р-р д/в/м введ. 2мл №5 амп.</td>\n",
       "      <td>NaN</td>\n",
       "      <td>Уфа</td>\n",
       "      <td>Приволжский федеральный округ</td>\n",
       "      <td>МИЛЬГАММА 2МЛ N5 АМП Р-Р В/М</td>\n",
       "      <td>0,00</td>\n",
       "      <td>apteka.ru</td>\n",
       "      <td>12.01.2022</td>\n",
       "      <td>00:39</td>\n",
       "      <td>https://apteka.ru/product/milgamma-2ml-n5-amp-...</td>\n",
       "    </tr>\n",
       "    <tr>\n",
       "      <th>2</th>\n",
       "      <td>Назол Бэби капли наз. 0.125% 10мл д/младенцев ...</td>\n",
       "      <td>NaN</td>\n",
       "      <td>Белгород</td>\n",
       "      <td>Центральный федеральный округ</td>\n",
       "      <td>НАЗОЛ БЭБИ 0,125% 10МЛ ФЛАК/КАП КАПЛИ НАЗАЛ</td>\n",
       "      <td>0,00</td>\n",
       "      <td>apteka.ru</td>\n",
       "      <td>12.01.2022</td>\n",
       "      <td>00:40</td>\n",
       "      <td>https://apteka.ru/product/nazol-bebi-0125-10ml...</td>\n",
       "    </tr>\n",
       "    <tr>\n",
       "      <th>3</th>\n",
       "      <td>Тантум Прополис пастилки №15 лес.ягоды БАД</td>\n",
       "      <td>NaN</td>\n",
       "      <td>Тула</td>\n",
       "      <td>Центральный федеральный округ</td>\n",
       "      <td>ТАНТУМ ПРОПОЛИС СО ВКУСОМ ЛЕСНЫХ ЯГОД N15 ПАСТ...</td>\n",
       "      <td>0,00</td>\n",
       "      <td>apteka.ru</td>\n",
       "      <td>12.01.2022</td>\n",
       "      <td>00:40</td>\n",
       "      <td>https://apteka.ru/product/tantum-propolis-so-v...</td>\n",
       "    </tr>\n",
       "    <tr>\n",
       "      <th>4</th>\n",
       "      <td>Нозефрин спрей наз. 50мкг/доза 120доз</td>\n",
       "      <td>NaN</td>\n",
       "      <td>Казань</td>\n",
       "      <td>Приволжский федеральный округ</td>\n",
       "      <td>НОЗЕФРИН 50МКГ/ДОЗА 18,0 СПРЕЙ НАЗАЛЬН ДОЗИР 1...</td>\n",
       "      <td>0,00</td>\n",
       "      <td>apteka.ru</td>\n",
       "      <td>12.01.2022</td>\n",
       "      <td>00:40</td>\n",
       "      <td>https://apteka.ru/product/nozefrin-50mkgdoza-1...</td>\n",
       "    </tr>\n",
       "  </tbody>\n",
       "</table>\n",
       "</div>"
      ],
      "text/plain": [
       "                           Товар (офф. Наименование)  Цена    Регион  \\\n",
       "0                              Жидкость для рук 80мл   NaN    Казань   \n",
       "1              Мильгамма р-р д/в/м введ. 2мл №5 амп.   NaN       Уфа   \n",
       "2  Назол Бэби капли наз. 0.125% 10мл д/младенцев ...   NaN  Белгород   \n",
       "3         Тантум Прополис пастилки №15 лес.ягоды БАД   NaN      Тула   \n",
       "4              Нозефрин спрей наз. 50мкг/доза 120доз   NaN    Казань   \n",
       "\n",
       "               Федеральный округ  \\\n",
       "0  Приволжский федеральный округ   \n",
       "1  Приволжский федеральный округ   \n",
       "2  Центральный федеральный округ   \n",
       "3  Центральный федеральный округ   \n",
       "4  Приволжский федеральный округ   \n",
       "\n",
       "                               Наименование на сайте Цена на сайте       Сайт  \\\n",
       "0  ЖИДКОСТЬ ДЛЯ РУК АММИАК+ГЛИЦЕРОЛ+ЭТАНОЛ 80МЛ Р...          0,00  apteka.ru   \n",
       "1                       МИЛЬГАММА 2МЛ N5 АМП Р-Р В/М          0,00  apteka.ru   \n",
       "2        НАЗОЛ БЭБИ 0,125% 10МЛ ФЛАК/КАП КАПЛИ НАЗАЛ          0,00  apteka.ru   \n",
       "3  ТАНТУМ ПРОПОЛИС СО ВКУСОМ ЛЕСНЫХ ЯГОД N15 ПАСТ...          0,00  apteka.ru   \n",
       "4  НОЗЕФРИН 50МКГ/ДОЗА 18,0 СПРЕЙ НАЗАЛЬН ДОЗИР 1...          0,00  apteka.ru   \n",
       "\n",
       "  Дата выкачки Время выкачки  \\\n",
       "0   12.01.2022         00:39   \n",
       "1   12.01.2022         00:39   \n",
       "2   12.01.2022         00:40   \n",
       "3   12.01.2022         00:40   \n",
       "4   12.01.2022         00:40   \n",
       "\n",
       "                                              Ссылка  \n",
       "0  https://apteka.ru/product/zhidkost-dlya-ruk-am...  \n",
       "1  https://apteka.ru/product/milgamma-2ml-n5-amp-...  \n",
       "2  https://apteka.ru/product/nazol-bebi-0125-10ml...  \n",
       "3  https://apteka.ru/product/tantum-propolis-so-v...  \n",
       "4  https://apteka.ru/product/nozefrin-50mkgdoza-1...  "
      ]
     },
     "execution_count": 4,
     "metadata": {},
     "output_type": "execute_result"
    }
   ],
   "source": [
    "df.head()"
   ]
  },
  {
   "cell_type": "markdown",
   "id": "580859c3",
   "metadata": {},
   "source": [
    "### Проверка наличия данных из всех источников"
   ]
  },
  {
   "cell_type": "code",
   "execution_count": 26,
   "id": "8b69ee87",
   "metadata": {},
   "outputs": [
    {
     "name": "stdout",
     "output_type": "stream",
     "text": [
      "acmespb.ru\n",
      "apteka.ru\n",
      "aptekamos.ru\n",
      "aptekiplus.ru\n",
      "maksavit.ru\n",
      "ozerki.ru\n",
      "planetazdorovo.ru\n",
      "po-aptekam.ru\n",
      "rigla.ru\n",
      "stolichki.ru\n"
     ]
    }
   ],
   "source": [
    "# Необходимые сайты\n",
    "sourses = ['acmespb.ru', 'apteka.ru', 'aptekamos.ru', 'aptekiplus.ru', 'maksavit.ru', 'ozerki.ru',\n",
    "           'planetazdorovo.ru', 'po-aptekam.ru', 'rigla.ru', 'stolichki.ru']\n",
    "print('\\n'.join(sourses))"
   ]
  },
  {
   "cell_type": "code",
   "execution_count": 25,
   "id": "706a450f",
   "metadata": {},
   "outputs": [
    {
     "name": "stdout",
     "output_type": "stream",
     "text": [
      "apteka.ru\n",
      "aptekiplus.ru\n",
      "planetazdorovo.ru\n",
      "stolichki.ru\n",
      "acmespb.ru\n",
      "maksavit.ru\n"
     ]
    }
   ],
   "source": [
    "# Сайты, имеющиеся в отчете\n",
    "current_sourses = list(df['Сайт'].unique())\n",
    "print('\\n'.join(current_sourses))"
   ]
  },
  {
   "cell_type": "markdown",
   "id": "8107c589",
   "metadata": {},
   "source": [
    "### Проверка наличия данных по всем городам"
   ]
  },
  {
   "cell_type": "code",
   "execution_count": 27,
   "id": "4c2e1b11",
   "metadata": {},
   "outputs": [
    {
     "name": "stdout",
     "output_type": "stream",
     "text": [
      "Казань\n",
      "Уфа\n",
      "Белгород\n",
      "Тула\n",
      "Санкт-Петербург\n",
      "Владимир\n",
      "Екатеринбург\n",
      "Воронеж\n",
      "Астрахань\n"
     ]
    }
   ],
   "source": [
    "# Необходимые города\n",
    "cities = ['Казань', 'Уфа', 'Белгород', 'Тула', 'Санкт-Петербург', 'Владимир', 'Екатеринбург', 'Воронеж', 'Астрахань']\n",
    "print('\\n'.join(cities))"
   ]
  },
  {
   "cell_type": "code",
   "execution_count": 28,
   "id": "82835157",
   "metadata": {
    "scrolled": true
   },
   "outputs": [
    {
     "name": "stdout",
     "output_type": "stream",
     "text": [
      "Казань\n",
      "Уфа\n",
      "Белгород\n",
      "Тула\n",
      "Санкт-Петербург\n",
      "Владимир\n",
      "Екатеринбург\n",
      "Воронеж\n",
      "Астрахань\n"
     ]
    }
   ],
   "source": [
    "# Сайты, имеющиеся в отчете\n",
    "current_cities = list(df['Регион'].unique())\n",
    "print('\\n'.join(current_cities))"
   ]
  },
  {
   "cell_type": "markdown",
   "id": "90857f32",
   "metadata": {},
   "source": [
    "### Проверка количества уникальных товаров на каждый сайт за день"
   ]
  },
  {
   "cell_type": "code",
   "execution_count": 53,
   "id": "76dd8a77",
   "metadata": {},
   "outputs": [
    {
     "name": "stdout",
     "output_type": "stream",
     "text": [
      "['12.01.2022']\n"
     ]
    }
   ],
   "source": [
    "# Как мы видим, в нашем отчете данные только за один день\n",
    "print(df['Дата выкачки'].unique())"
   ]
  },
  {
   "cell_type": "code",
   "execution_count": 44,
   "id": "6fdeebaa",
   "metadata": {
    "scrolled": false
   },
   "outputs": [
    {
     "data": {
      "text/html": [
       "<div>\n",
       "<style scoped>\n",
       "    .dataframe tbody tr th:only-of-type {\n",
       "        vertical-align: middle;\n",
       "    }\n",
       "\n",
       "    .dataframe tbody tr th {\n",
       "        vertical-align: top;\n",
       "    }\n",
       "\n",
       "    .dataframe thead th {\n",
       "        text-align: right;\n",
       "    }\n",
       "</style>\n",
       "<table border=\"1\" class=\"dataframe\">\n",
       "  <thead>\n",
       "    <tr style=\"text-align: right;\">\n",
       "      <th></th>\n",
       "      <th>Сайт</th>\n",
       "      <th>Наименование на сайте</th>\n",
       "    </tr>\n",
       "  </thead>\n",
       "  <tbody>\n",
       "    <tr>\n",
       "      <th>0</th>\n",
       "      <td>acmespb.ru</td>\n",
       "      <td>3430</td>\n",
       "    </tr>\n",
       "    <tr>\n",
       "      <th>1</th>\n",
       "      <td>apteka.ru</td>\n",
       "      <td>2815</td>\n",
       "    </tr>\n",
       "    <tr>\n",
       "      <th>2</th>\n",
       "      <td>aptekiplus.ru</td>\n",
       "      <td>4514</td>\n",
       "    </tr>\n",
       "    <tr>\n",
       "      <th>3</th>\n",
       "      <td>maksavit.ru</td>\n",
       "      <td>4821</td>\n",
       "    </tr>\n",
       "    <tr>\n",
       "      <th>4</th>\n",
       "      <td>planetazdorovo.ru</td>\n",
       "      <td>2447</td>\n",
       "    </tr>\n",
       "    <tr>\n",
       "      <th>5</th>\n",
       "      <td>stolichki.ru</td>\n",
       "      <td>5566</td>\n",
       "    </tr>\n",
       "  </tbody>\n",
       "</table>\n",
       "</div>"
      ],
      "text/plain": [
       "                Сайт  Наименование на сайте\n",
       "0         acmespb.ru                   3430\n",
       "1          apteka.ru                   2815\n",
       "2      aptekiplus.ru                   4514\n",
       "3        maksavit.ru                   4821\n",
       "4  planetazdorovo.ru                   2447\n",
       "5       stolichki.ru                   5566"
      ]
     },
     "execution_count": 44,
     "metadata": {},
     "output_type": "execute_result"
    }
   ],
   "source": [
    "df.groupby('Сайт')['Наименование на сайте'].nunique().reset_index()"
   ]
  },
  {
   "cell_type": "code",
   "execution_count": 49,
   "id": "c7af6993",
   "metadata": {
    "scrolled": true
   },
   "outputs": [
    {
     "data": {
      "text/html": [
       "<div>\n",
       "<style scoped>\n",
       "    .dataframe tbody tr th:only-of-type {\n",
       "        vertical-align: middle;\n",
       "    }\n",
       "\n",
       "    .dataframe tbody tr th {\n",
       "        vertical-align: top;\n",
       "    }\n",
       "\n",
       "    .dataframe thead th {\n",
       "        text-align: right;\n",
       "    }\n",
       "</style>\n",
       "<table border=\"1\" class=\"dataframe\">\n",
       "  <thead>\n",
       "    <tr style=\"text-align: right;\">\n",
       "      <th></th>\n",
       "      <th>Сайт</th>\n",
       "      <th>Товар (офф. Наименование)</th>\n",
       "    </tr>\n",
       "  </thead>\n",
       "  <tbody>\n",
       "    <tr>\n",
       "      <th>0</th>\n",
       "      <td>acmespb.ru</td>\n",
       "      <td>3503</td>\n",
       "    </tr>\n",
       "    <tr>\n",
       "      <th>1</th>\n",
       "      <td>apteka.ru</td>\n",
       "      <td>2092</td>\n",
       "    </tr>\n",
       "    <tr>\n",
       "      <th>2</th>\n",
       "      <td>aptekiplus.ru</td>\n",
       "      <td>4224</td>\n",
       "    </tr>\n",
       "    <tr>\n",
       "      <th>3</th>\n",
       "      <td>maksavit.ru</td>\n",
       "      <td>4571</td>\n",
       "    </tr>\n",
       "    <tr>\n",
       "      <th>4</th>\n",
       "      <td>planetazdorovo.ru</td>\n",
       "      <td>2269</td>\n",
       "    </tr>\n",
       "    <tr>\n",
       "      <th>5</th>\n",
       "      <td>stolichki.ru</td>\n",
       "      <td>4752</td>\n",
       "    </tr>\n",
       "  </tbody>\n",
       "</table>\n",
       "</div>"
      ],
      "text/plain": [
       "                Сайт  Товар (офф. Наименование)\n",
       "0         acmespb.ru                       3503\n",
       "1          apteka.ru                       2092\n",
       "2      aptekiplus.ru                       4224\n",
       "3        maksavit.ru                       4571\n",
       "4  planetazdorovo.ru                       2269\n",
       "5       stolichki.ru                       4752"
      ]
     },
     "execution_count": 49,
     "metadata": {},
     "output_type": "execute_result"
    }
   ],
   "source": [
    "df.groupby('Сайт')['Товар (офф. Наименование)'].nunique().reset_index()"
   ]
  },
  {
   "cell_type": "markdown",
   "id": "a3b5cae7",
   "metadata": {},
   "source": [
    "### Заключение:\n",
    "1. Количество сайтов, используемых для мониторинга цен, не соответствует оказываемой услуге. Только 6 сайтов из 10 присутствуют в отчете\n",
    "2. По регионам несоответстий нет. Все регионы, указанные в услуге, присутствуют в отчете\n",
    "3. Количество уникальных значений по каждому сайту за день превышают оговоренный минимум в 1000 единиц. Точные данные разнятся при Оффициальном наименовани и наименовании на сайте, однако значения превышают минимум во всех случаях"
   ]
  }
 ],
 "metadata": {
  "kernelspec": {
   "display_name": "Python 3 (ipykernel)",
   "language": "python",
   "name": "python3"
  },
  "language_info": {
   "codemirror_mode": {
    "name": "ipython",
    "version": 3
   },
   "file_extension": ".py",
   "mimetype": "text/x-python",
   "name": "python",
   "nbconvert_exporter": "python",
   "pygments_lexer": "ipython3",
   "version": "3.9.7"
  }
 },
 "nbformat": 4,
 "nbformat_minor": 5
}

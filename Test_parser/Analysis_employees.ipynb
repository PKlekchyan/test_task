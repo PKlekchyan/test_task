{
 "cells": [
  {
   "cell_type": "markdown",
   "id": "1d8735c2",
   "metadata": {},
   "source": [
    "### Количество фамилий сотрудников на каждую из букв русского алфавита"
   ]
  },
  {
   "cell_type": "code",
   "execution_count": 1,
   "id": "6e8679b3",
   "metadata": {},
   "outputs": [],
   "source": [
    "import pandas as pd"
   ]
  },
  {
   "cell_type": "code",
   "execution_count": 3,
   "id": "5be041f0",
   "metadata": {
    "scrolled": true
   },
   "outputs": [
    {
     "data": {
      "text/html": [
       "<div>\n",
       "<style scoped>\n",
       "    .dataframe tbody tr th:only-of-type {\n",
       "        vertical-align: middle;\n",
       "    }\n",
       "\n",
       "    .dataframe tbody tr th {\n",
       "        vertical-align: top;\n",
       "    }\n",
       "\n",
       "    .dataframe thead th {\n",
       "        text-align: right;\n",
       "    }\n",
       "</style>\n",
       "<table border=\"1\" class=\"dataframe\">\n",
       "  <thead>\n",
       "    <tr style=\"text-align: right;\">\n",
       "      <th></th>\n",
       "      <th>city</th>\n",
       "      <th>name</th>\n",
       "      <th>position</th>\n",
       "      <th>mail</th>\n",
       "    </tr>\n",
       "  </thead>\n",
       "  <tbody>\n",
       "    <tr>\n",
       "      <th>0</th>\n",
       "      <td>Москва</td>\n",
       "      <td>Оксана Маклакова</td>\n",
       "      <td>Главный редактор</td>\n",
       "      <td>msk1@iportal.ru</td>\n",
       "    </tr>\n",
       "    <tr>\n",
       "      <th>1</th>\n",
       "      <td>Екатеринбург</td>\n",
       "      <td>Артем Беседин</td>\n",
       "      <td>Главный редактор</td>\n",
       "      <td>e1@iportal.ru</td>\n",
       "    </tr>\n",
       "    <tr>\n",
       "      <th>2</th>\n",
       "      <td>Нижний Новгород</td>\n",
       "      <td>Денис Стрелков</td>\n",
       "      <td>Главный редактор</td>\n",
       "      <td>nn@iportal.ru</td>\n",
       "    </tr>\n",
       "    <tr>\n",
       "      <th>3</th>\n",
       "      <td>Кемерово</td>\n",
       "      <td>Анастасия Ильина</td>\n",
       "      <td>Главный редактор</td>\n",
       "      <td>ngs42@iportal.ru</td>\n",
       "    </tr>\n",
       "    <tr>\n",
       "      <th>4</th>\n",
       "      <td>Пермь</td>\n",
       "      <td>Екатерина Вохмянина</td>\n",
       "      <td>Главный редактор</td>\n",
       "      <td>59@iportal.ru</td>\n",
       "    </tr>\n",
       "  </tbody>\n",
       "</table>\n",
       "</div>"
      ],
      "text/plain": [
       "              city                 name          position              mail\n",
       "0           Москва     Оксана Маклакова  Главный редактор   msk1@iportal.ru\n",
       "1     Екатеринбург        Артем Беседин  Главный редактор     e1@iportal.ru\n",
       "2  Нижний Новгород       Денис Стрелков  Главный редактор     nn@iportal.ru\n",
       "3         Кемерово     Анастасия Ильина  Главный редактор  ngs42@iportal.ru\n",
       "4            Пермь  Екатерина Вохмянина  Главный редактор     59@iportal.ru"
      ]
     },
     "execution_count": 3,
     "metadata": {},
     "output_type": "execute_result"
    }
   ],
   "source": [
    "df = pd.read_csv('employees.csv', names=['city', 'name', 'position', 'mail'])\n",
    "df.head()"
   ]
  },
  {
   "cell_type": "code",
   "execution_count": 15,
   "id": "aedc96ec",
   "metadata": {},
   "outputs": [],
   "source": [
    "count = {}\n",
    "def count_letter(col):\n",
    "    last_name = col.split()[1]\n",
    "    first_letter = last_name[0]\n",
    "    if first_letter in count.keys():\n",
    "        count[first_letter]+=1\n",
    "    else: count[first_letter] = 1"
   ]
  },
  {
   "cell_type": "code",
   "execution_count": 16,
   "id": "273c8015",
   "metadata": {},
   "outputs": [
    {
     "name": "stdout",
     "output_type": "stream",
     "text": [
      "М 6\n",
      "Б 6\n",
      "С 2\n",
      "И 3\n",
      "В 2\n",
      "П 4\n",
      "К 5\n",
      "З 1\n",
      "Д 1\n",
      "Н 1\n",
      "Г 3\n",
      "Ф 2\n",
      "Ё 2\n",
      "Ю 1\n",
      "Ш 1\n",
      "Т 2\n",
      "Ц 2\n",
      "Р 1\n",
      "Ч 1\n"
     ]
    }
   ],
   "source": [
    "df['name'].apply(count_letter)\n",
    "for key, value in count.items():\n",
    "    print(key, value)"
   ]
  }
 ],
 "metadata": {
  "kernelspec": {
   "display_name": "Python 3 (ipykernel)",
   "language": "python",
   "name": "python3"
  },
  "language_info": {
   "codemirror_mode": {
    "name": "ipython",
    "version": 3
   },
   "file_extension": ".py",
   "mimetype": "text/x-python",
   "name": "python",
   "nbconvert_exporter": "python",
   "pygments_lexer": "ipython3",
   "version": "3.9.7"
  }
 },
 "nbformat": 4,
 "nbformat_minor": 5
}
